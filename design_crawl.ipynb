{
 "cells": [
  {
   "cell_type": "code",
   "execution_count": 1,
   "metadata": {},
   "outputs": [],
   "source": [
    "import pandas as pd\n",
    "import numpy as np\n"
   ]
  },
  {
   "cell_type": "code",
   "execution_count": 2,
   "metadata": {},
   "outputs": [
    {
     "data": {
      "text/html": [
       "<div>\n",
       "<style scoped>\n",
       "    .dataframe tbody tr th:only-of-type {\n",
       "        vertical-align: middle;\n",
       "    }\n",
       "\n",
       "    .dataframe tbody tr th {\n",
       "        vertical-align: top;\n",
       "    }\n",
       "\n",
       "    .dataframe thead th {\n",
       "        text-align: right;\n",
       "    }\n",
       "</style>\n",
       "<table border=\"1\" class=\"dataframe\">\n",
       "  <thead>\n",
       "    <tr style=\"text-align: right;\">\n",
       "      <th></th>\n",
       "      <th>id</th>\n",
       "      <th>type</th>\n",
       "      <th>name</th>\n",
       "      <th>creator</th>\n",
       "      <th>starring</th>\n",
       "      <th>year</th>\n",
       "      <th>rating</th>\n",
       "      <th>time</th>\n",
       "      <th>genres</th>\n",
       "      <th>country</th>\n",
       "      <th>describle</th>\n",
       "    </tr>\n",
       "  </thead>\n",
       "  <tbody>\n",
       "    <tr>\n",
       "      <th>0</th>\n",
       "      <td>81416533</td>\n",
       "      <td>Movie</td>\n",
       "      <td>Heart of Stone</td>\n",
       "      <td>NaN</td>\n",
       "      <td>Gal Gadot, Jamie Dornan, Alia Bhatt</td>\n",
       "      <td>2023</td>\n",
       "      <td>TV-PG</td>\n",
       "      <td>125 min</td>\n",
       "      <td>Drama Movies ,Action &amp; Adventure Movies ,Spy M...</td>\n",
       "      <td>United States</td>\n",
       "      <td>An intelligence operative for a shadowy global...</td>\n",
       "    </tr>\n",
       "    <tr>\n",
       "      <th>1</th>\n",
       "      <td>80991406</td>\n",
       "      <td>Movie</td>\n",
       "      <td>Johnny English Strikes Again</td>\n",
       "      <td>NaN</td>\n",
       "      <td>Rowan Atkinson, Ben Miller, Emma Thompson</td>\n",
       "      <td>2018</td>\n",
       "      <td>TV-PG</td>\n",
       "      <td>88 min</td>\n",
       "      <td>Family Movies ,Comedy Movies ,Action &amp; Adventu...</td>\n",
       "      <td>United States</td>\n",
       "      <td>After a cyberattack exposes every undercover a...</td>\n",
       "    </tr>\n",
       "    <tr>\n",
       "      <th>2</th>\n",
       "      <td>81644420</td>\n",
       "      <td>Movie</td>\n",
       "      <td>Hunt</td>\n",
       "      <td>NaN</td>\n",
       "      <td>Lee Jung-jae, Jung Woo-sung, Jeon Hye-jin</td>\n",
       "      <td>2022</td>\n",
       "      <td>TV-14</td>\n",
       "      <td>125 min</td>\n",
       "      <td>Drama Movies ,Action &amp; Adventure Movies ,Spy M...</td>\n",
       "      <td>Korea</td>\n",
       "      <td>As a pair of national security agents hunt a N...</td>\n",
       "    </tr>\n",
       "    <tr>\n",
       "      <th>3</th>\n",
       "      <td>70208104</td>\n",
       "      <td>Movie</td>\n",
       "      <td>Safe House</td>\n",
       "      <td>NaN</td>\n",
       "      <td>Denzel Washington, Ryan Reynolds, Vera Farmiga</td>\n",
       "      <td>2012</td>\n",
       "      <td>TV-14</td>\n",
       "      <td>114 min</td>\n",
       "      <td>Action &amp; Adventure Movies ,Spy Movies</td>\n",
       "      <td>United States</td>\n",
       "      <td>CIA operative Matt Weston must get a dangerous...</td>\n",
       "    </tr>\n",
       "    <tr>\n",
       "      <th>4</th>\n",
       "      <td>70297761</td>\n",
       "      <td>Movie</td>\n",
       "      <td>Commitment</td>\n",
       "      <td>NaN</td>\n",
       "      <td>Choi Seung-hyun, Han Ye-ri, Yoon Je-moon</td>\n",
       "      <td>2013</td>\n",
       "      <td>TV-14</td>\n",
       "      <td>112 min</td>\n",
       "      <td>Action &amp; Adventure Movies ,Spy Movies</td>\n",
       "      <td>Korea</td>\n",
       "      <td>After taking on a spying mission to free his s...</td>\n",
       "    </tr>\n",
       "  </tbody>\n",
       "</table>\n",
       "</div>"
      ],
      "text/plain": [
       "         id   type                          name creator   \n",
       "0  81416533  Movie                Heart of Stone     NaN  \\\n",
       "1  80991406  Movie  Johnny English Strikes Again     NaN   \n",
       "2  81644420  Movie                          Hunt     NaN   \n",
       "3  70208104  Movie                    Safe House     NaN   \n",
       "4  70297761  Movie                    Commitment     NaN   \n",
       "\n",
       "                                         starring  year rating     time   \n",
       "0             Gal Gadot, Jamie Dornan, Alia Bhatt  2023  TV-PG  125 min  \\\n",
       "1       Rowan Atkinson, Ben Miller, Emma Thompson  2018  TV-PG   88 min   \n",
       "2       Lee Jung-jae, Jung Woo-sung, Jeon Hye-jin  2022  TV-14  125 min   \n",
       "3  Denzel Washington, Ryan Reynolds, Vera Farmiga  2012  TV-14  114 min   \n",
       "4        Choi Seung-hyun, Han Ye-ri, Yoon Je-moon  2013  TV-14  112 min   \n",
       "\n",
       "                                              genres        country   \n",
       "0  Drama Movies ,Action & Adventure Movies ,Spy M...  United States  \\\n",
       "1  Family Movies ,Comedy Movies ,Action & Adventu...  United States   \n",
       "2  Drama Movies ,Action & Adventure Movies ,Spy M...          Korea   \n",
       "3             Action & Adventure Movies ,Spy Movies   United States   \n",
       "4              Action & Adventure Movies ,Spy Movies          Korea   \n",
       "\n",
       "                                           describle  \n",
       "0  An intelligence operative for a shadowy global...  \n",
       "1  After a cyberattack exposes every undercover a...  \n",
       "2  As a pair of national security agents hunt a N...  \n",
       "3  CIA operative Matt Weston must get a dangerous...  \n",
       "4  After taking on a spying mission to free his s...  "
      ]
     },
     "execution_count": 2,
     "metadata": {},
     "output_type": "execute_result"
    }
   ],
   "source": [
    "df = pd.read_csv('netflix_crawl.csv', header=0)\n",
    "df = pd.DataFrame(df)\n",
    "df.head()"
   ]
  },
  {
   "cell_type": "code",
   "execution_count": 12,
   "metadata": {},
   "outputs": [],
   "source": [
    "df['country']= df['country'].replace('Korea','South Korea')\n"
   ]
  },
  {
   "cell_type": "code",
   "execution_count": 13,
   "metadata": {},
   "outputs": [
    {
     "data": {
      "text/plain": [
       "0    United States\n",
       "1    United States\n",
       "2      South Korea\n",
       "3    United States\n",
       "4      South Korea\n",
       "5            China\n",
       "6      South Korea\n",
       "7            India\n",
       "8    United States\n",
       "9    United States\n",
       "Name: country, dtype: object"
      ]
     },
     "execution_count": 13,
     "metadata": {},
     "output_type": "execute_result"
    }
   ],
   "source": [
    "df['country'][:10]"
   ]
  },
  {
   "cell_type": "code",
   "execution_count": 14,
   "metadata": {},
   "outputs": [],
   "source": [
    "df.to_csv('netflix_full.csv',encoding='utf-8', index = False)"
   ]
  },
  {
   "cell_type": "code",
   "execution_count": 78,
   "metadata": {},
   "outputs": [
    {
     "ename": "ValueError",
     "evalue": "Length of values (3203) does not match length of index (3784)",
     "output_type": "error",
     "traceback": [
      "\u001b[0;31m---------------------------------------------------------------------------\u001b[0m",
      "\u001b[0;31mValueError\u001b[0m                                Traceback (most recent call last)",
      "\u001b[1;32m/Users/danghuutri/Library/Mobile Documents/com~apple~CloudDocs/Study/A-Learn_st_III/HK1/TKMT/Crawl_Netflix/test.ipynb Cell 3\u001b[0m line \u001b[0;36m2\n\u001b[1;32m     <a href='vscode-notebook-cell:/Users/danghuutri/Library/Mobile%20Documents/com~apple~CloudDocs/Study/A-Learn_st_III/HK1/TKMT/Crawl_Netflix/test.ipynb#W0sZmlsZQ%3D%3D?line=22'>23</a>\u001b[0m     \u001b[39mif\u001b[39;00m \u001b[39mint\u001b[39m(i) \u001b[39m>\u001b[39m \u001b[39m2012\u001b[39m:\n\u001b[1;32m     <a href='vscode-notebook-cell:/Users/danghuutri/Library/Mobile%20Documents/com~apple~CloudDocs/Study/A-Learn_st_III/HK1/TKMT/Crawl_Netflix/test.ipynb#W0sZmlsZQ%3D%3D?line=23'>24</a>\u001b[0m         temp\u001b[39m.\u001b[39mappend(i)\n\u001b[0;32m---> <a href='vscode-notebook-cell:/Users/danghuutri/Library/Mobile%20Documents/com~apple~CloudDocs/Study/A-Learn_st_III/HK1/TKMT/Crawl_Netflix/test.ipynb#W0sZmlsZQ%3D%3D?line=24'>25</a>\u001b[0m df[\u001b[39m'\u001b[39;49m\u001b[39myear\u001b[39;49m\u001b[39m'\u001b[39;49m] \u001b[39m=\u001b[39m temp\n\u001b[1;32m     <a href='vscode-notebook-cell:/Users/danghuutri/Library/Mobile%20Documents/com~apple~CloudDocs/Study/A-Learn_st_III/HK1/TKMT/Crawl_Netflix/test.ipynb#W0sZmlsZQ%3D%3D?line=26'>27</a>\u001b[0m df\u001b[39m.\u001b[39mto_csv(\u001b[39m'\u001b[39m\u001b[39mnetflix_full.csv\u001b[39m\u001b[39m'\u001b[39m, encoding\u001b[39m=\u001b[39m\u001b[39m'\u001b[39m\u001b[39mutf-8\u001b[39m\u001b[39m'\u001b[39m,index \u001b[39m=\u001b[39m \u001b[39mFalse\u001b[39;00m)\n",
      "File \u001b[0;32m~/Library/Python/3.9/lib/python/site-packages/pandas/core/frame.py:3960\u001b[0m, in \u001b[0;36mDataFrame.__setitem__\u001b[0;34m(self, key, value)\u001b[0m\n\u001b[1;32m   3957\u001b[0m     \u001b[39mself\u001b[39m\u001b[39m.\u001b[39m_setitem_array([key], value)\n\u001b[1;32m   3958\u001b[0m \u001b[39melse\u001b[39;00m:\n\u001b[1;32m   3959\u001b[0m     \u001b[39m# set column\u001b[39;00m\n\u001b[0;32m-> 3960\u001b[0m     \u001b[39mself\u001b[39;49m\u001b[39m.\u001b[39;49m_set_item(key, value)\n",
      "File \u001b[0;32m~/Library/Python/3.9/lib/python/site-packages/pandas/core/frame.py:4153\u001b[0m, in \u001b[0;36mDataFrame._set_item\u001b[0;34m(self, key, value)\u001b[0m\n\u001b[1;32m   4143\u001b[0m \u001b[39mdef\u001b[39;00m \u001b[39m_set_item\u001b[39m(\u001b[39mself\u001b[39m, key, value) \u001b[39m-\u001b[39m\u001b[39m>\u001b[39m \u001b[39mNone\u001b[39;00m:\n\u001b[1;32m   4144\u001b[0m \u001b[39m    \u001b[39m\u001b[39m\"\"\"\u001b[39;00m\n\u001b[1;32m   4145\u001b[0m \u001b[39m    Add series to DataFrame in specified column.\u001b[39;00m\n\u001b[1;32m   4146\u001b[0m \n\u001b[0;32m   (...)\u001b[0m\n\u001b[1;32m   4151\u001b[0m \u001b[39m    ensure homogeneity.\u001b[39;00m\n\u001b[1;32m   4152\u001b[0m \u001b[39m    \"\"\"\u001b[39;00m\n\u001b[0;32m-> 4153\u001b[0m     value \u001b[39m=\u001b[39m \u001b[39mself\u001b[39;49m\u001b[39m.\u001b[39;49m_sanitize_column(value)\n\u001b[1;32m   4155\u001b[0m     \u001b[39mif\u001b[39;00m (\n\u001b[1;32m   4156\u001b[0m         key \u001b[39min\u001b[39;00m \u001b[39mself\u001b[39m\u001b[39m.\u001b[39mcolumns\n\u001b[1;32m   4157\u001b[0m         \u001b[39mand\u001b[39;00m value\u001b[39m.\u001b[39mndim \u001b[39m==\u001b[39m \u001b[39m1\u001b[39m\n\u001b[1;32m   4158\u001b[0m         \u001b[39mand\u001b[39;00m \u001b[39mnot\u001b[39;00m is_extension_array_dtype(value)\n\u001b[1;32m   4159\u001b[0m     ):\n\u001b[1;32m   4160\u001b[0m         \u001b[39m# broadcast across multiple columns if necessary\u001b[39;00m\n\u001b[1;32m   4161\u001b[0m         \u001b[39mif\u001b[39;00m \u001b[39mnot\u001b[39;00m \u001b[39mself\u001b[39m\u001b[39m.\u001b[39mcolumns\u001b[39m.\u001b[39mis_unique \u001b[39mor\u001b[39;00m \u001b[39misinstance\u001b[39m(\u001b[39mself\u001b[39m\u001b[39m.\u001b[39mcolumns, MultiIndex):\n",
      "File \u001b[0;32m~/Library/Python/3.9/lib/python/site-packages/pandas/core/frame.py:4880\u001b[0m, in \u001b[0;36mDataFrame._sanitize_column\u001b[0;34m(self, value)\u001b[0m\n\u001b[1;32m   4877\u001b[0m     \u001b[39mreturn\u001b[39;00m _reindex_for_setitem(Series(value), \u001b[39mself\u001b[39m\u001b[39m.\u001b[39mindex)\n\u001b[1;32m   4879\u001b[0m \u001b[39mif\u001b[39;00m is_list_like(value):\n\u001b[0;32m-> 4880\u001b[0m     com\u001b[39m.\u001b[39;49mrequire_length_match(value, \u001b[39mself\u001b[39;49m\u001b[39m.\u001b[39;49mindex)\n\u001b[1;32m   4881\u001b[0m \u001b[39mreturn\u001b[39;00m sanitize_array(value, \u001b[39mself\u001b[39m\u001b[39m.\u001b[39mindex, copy\u001b[39m=\u001b[39m\u001b[39mTrue\u001b[39;00m, allow_2d\u001b[39m=\u001b[39m\u001b[39mTrue\u001b[39;00m)\n",
      "File \u001b[0;32m~/Library/Python/3.9/lib/python/site-packages/pandas/core/common.py:576\u001b[0m, in \u001b[0;36mrequire_length_match\u001b[0;34m(data, index)\u001b[0m\n\u001b[1;32m    572\u001b[0m \u001b[39m\u001b[39m\u001b[39m\"\"\"\u001b[39;00m\n\u001b[1;32m    573\u001b[0m \u001b[39mCheck the length of data matches the length of the index.\u001b[39;00m\n\u001b[1;32m    574\u001b[0m \u001b[39m\"\"\"\u001b[39;00m\n\u001b[1;32m    575\u001b[0m \u001b[39mif\u001b[39;00m \u001b[39mlen\u001b[39m(data) \u001b[39m!=\u001b[39m \u001b[39mlen\u001b[39m(index):\n\u001b[0;32m--> 576\u001b[0m     \u001b[39mraise\u001b[39;00m \u001b[39mValueError\u001b[39;00m(\n\u001b[1;32m    577\u001b[0m         \u001b[39m\"\u001b[39m\u001b[39mLength of values \u001b[39m\u001b[39m\"\u001b[39m\n\u001b[1;32m    578\u001b[0m         \u001b[39mf\u001b[39m\u001b[39m\"\u001b[39m\u001b[39m(\u001b[39m\u001b[39m{\u001b[39;00m\u001b[39mlen\u001b[39m(data)\u001b[39m}\u001b[39;00m\u001b[39m) \u001b[39m\u001b[39m\"\u001b[39m\n\u001b[1;32m    579\u001b[0m         \u001b[39m\"\u001b[39m\u001b[39mdoes not match length of index \u001b[39m\u001b[39m\"\u001b[39m\n\u001b[1;32m    580\u001b[0m         \u001b[39mf\u001b[39m\u001b[39m\"\u001b[39m\u001b[39m(\u001b[39m\u001b[39m{\u001b[39;00m\u001b[39mlen\u001b[39m(index)\u001b[39m}\u001b[39;00m\u001b[39m)\u001b[39m\u001b[39m\"\u001b[39m\n\u001b[1;32m    581\u001b[0m     )\n",
      "\u001b[0;31mValueError\u001b[0m: Length of values (3203) does not match length of index (3784)"
     ]
    }
   ],
   "source": [
    "rating_mapping ={\n",
    "    \"7+\":\"TV-Y\",\n",
    "    \"10+\":\"TV-Y7\",\n",
    "    \"13+\":\"TV-PG\",\n",
    "    \"16+\":\"TV-14\",\n",
    "    \"18+\":\"TV-MA\",\n",
    "    \"All\":\"TV-G\",\n",
    "}\n",
    "\n",
    "temp = []\n",
    "for i in df['rating']:\n",
    "    for sample, mapping in rating_mapping.items():\n",
    "        # print(sample)\n",
    "        i = str(i)\n",
    "        if sample in i:\n",
    "            # print('ha')\n",
    "            temp.append(mapping)\n",
    "# print(temp) \n",
    "df['rating'] = temp\n",
    "\n",
    "\n",
    "df.to_csv('netflix_full.csv', encoding='utf-8',index = False)\n",
    "\n",
    "        \n"
   ]
  },
  {
   "cell_type": "code",
   "execution_count": 79,
   "metadata": {},
   "outputs": [],
   "source": [
    "import pandas as pd\n",
    "\n",
    "# Đọc dữ liệu từ nguồn dữ liệu của bạn (hoặc sử dụng DataFrame hiện có)\n",
    "# data = pd.read_csv('your_data.csv')\n",
    "\n",
    "# Đảm bảo rằng cột \"year\" đã được định dạng là số\n",
    "df['year'] = df['year'].astype(int)\n",
    "\n",
    "# Lọc ra chỉ lấy dữ liệu từ năm 2012 trở đi\n",
    "filtered_data = df[df['year'] >= 2012]\n",
    "\n",
    "# Lưu dữ liệu đã lọc vào một tệp CSV mới\n",
    "filtered_data.to_csv('netflix_crawl.csv', index=False)\n"
   ]
  },
  {
   "cell_type": "code",
   "execution_count": 80,
   "metadata": {},
   "outputs": [
    {
     "name": "stdout",
     "output_type": "stream",
     "text": [
      "3784\n"
     ]
    }
   ],
   "source": [
    "print(len(df['country']))"
   ]
  },
  {
   "cell_type": "code",
   "execution_count": 45,
   "metadata": {},
   "outputs": [
    {
     "name": "stdout",
     "output_type": "stream",
     "text": [
      "0       16+ \n",
      "1       16+ \n",
      "2       16+ \n",
      "3       13+ \n",
      "4       13+ \n",
      "        ... \n",
      "3808    16+ \n",
      "3809    18+ \n",
      "3810    16+ \n",
      "3811    16+ \n",
      "3812    16+ \n",
      "Name: rating, Length: 3813, dtype: object\n"
     ]
    }
   ],
   "source": [
    "rating_mapping = {\n",
    "    \"7+\": \"TV-Y\",\n",
    "    \"10+\": \"TV-Y7\",\n",
    "    \"13+\": \"TV-PG\",\n",
    "    \"16+\": \"TV-14\",\n",
    "    \"18+\": \"TV-MA\",\n",
    "    \"ALL\": \"TV-G\",\n",
    "}\n",
    "\n",
    "for sample, mapping in rating_mapping.items():\n",
    "    df['rating'] = df['rating'].replace(sample, mapping)\n",
    "print(df['rating'])\n"
   ]
  }
 ],
 "metadata": {
  "kernelspec": {
   "display_name": "Python 3",
   "language": "python",
   "name": "python3"
  },
  "language_info": {
   "codemirror_mode": {
    "name": "ipython",
    "version": 3
   },
   "file_extension": ".py",
   "mimetype": "text/x-python",
   "name": "python",
   "nbconvert_exporter": "python",
   "pygments_lexer": "ipython3",
   "version": "3.9.6"
  },
  "orig_nbformat": 4
 },
 "nbformat": 4,
 "nbformat_minor": 2
}
