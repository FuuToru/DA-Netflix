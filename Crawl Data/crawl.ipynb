{
 "cells": [
  {
   "cell_type": "code",
   "execution_count": 22,
   "metadata": {},
   "outputs": [],
   "source": [
    "import requests\n",
    "from bs4 import BeautifulSoup\n",
    "import pandas as pd\n",
    "import numpy as np\n",
    "import matplotlib.pyplot as plt\n",
    "import seaborn as sns\n",
    "from datetime import datetime\n",
    "import re\n"
   ]
  },
  {
   "cell_type": "code",
   "execution_count": 23,
   "metadata": {},
   "outputs": [
    {
     "name": "stdout",
     "output_type": "stream",
     "text": [
      "['https://www.netflix.com/browse/genre/46576', 'https://www.netflix.com/browse/genre/10702', 'https://www.netflix.com/browse/genre/2125', 'https://www.netflix.com/browse/genre/11828', 'https://www.netflix.com/browse/genre/1568', 'https://www.netflix.com/browse/genre/7442', 'https://www.netflix.com/browse/genre/43040', 'https://www.netflix.com/browse/genre/77232', 'https://www.netflix.com/browse/genre/10118', 'https://www.netflix.com/browse/genre/20541', 'https://www.netflix.com/browse/genre/8985', 'https://www.netflix.com/browse/genre/9584', 'https://www.netflix.com/browse/genre/43048', 'https://www.netflix.com/browse/genre/7700', 'https://www.netflix.com/browse/genre/11881', 'https://www.netflix.com/browse/genre/2729', 'https://www.netflix.com/browse/genre/9302', 'https://www.netflix.com/browse/genre/2653', 'https://www.netflix.com/browse/genre/10695', 'https://www.netflix.com/browse/genre/452', 'https://www.netflix.com/browse/genre/11146', 'https://www.netflix.com/browse/genre/3063', 'https://www.netflix.com/browse/genre/5507', 'https://www.netflix.com/browse/genre/6721', 'https://www.netflix.com/browse/genre/29764', 'https://www.netflix.com/browse/genre/7687', 'https://www.netflix.com/browse/genre/31851', 'https://www.netflix.com/browse/genre/11079', 'https://www.netflix.com/browse/genre/9744', 'https://www.netflix.com/browse/genre/52804', 'https://www.netflix.com/browse/genre/6998', 'https://www.netflix.com/browse/genre/4922', 'https://www.netflix.com/browse/genre/839338', 'https://www.netflix.com/browse/genre/11559', 'https://www.netflix.com/browse/genre/34399', 'https://www.netflix.com/browse/genre/52858', 'https://www.netflix.com/browse/genre/9302', 'https://www.netflix.com/browse/genre/10256', 'https://www.netflix.com/browse/genre/89585', 'https://www.netflix.com/browse/genre/1402', 'https://www.netflix.com/browse/genre/869', 'https://www.netflix.com/browse/genre/9702', 'https://www.netflix.com/browse/genre/13335', 'https://www.netflix.com/browse/genre/2700', 'https://www.netflix.com/browse/genre/3519', 'https://www.netflix.com/browse/genre/5475', 'https://www.netflix.com/browse/genre/5286', 'https://www.netflix.com/browse/genre/4426', 'https://www.netflix.com/browse/genre/26', 'https://www.netflix.com/browse/genre/4922', 'https://www.netflix.com/browse/genre/11559', 'https://www.netflix.com/browse/genre/3652', 'https://www.netflix.com/browse/genre/5349', 'https://www.netflix.com/browse/genre/90361', 'https://www.netflix.com/browse/genre/9875', 'https://www.netflix.com/browse/genre/7018', 'https://www.netflix.com/browse/genre/10005', 'https://www.netflix.com/browse/genre/2760', 'https://www.netflix.com/browse/genre/180', 'https://www.netflix.com/browse/genre/4006', 'https://www.netflix.com/browse/genre/1159', 'https://www.netflix.com/browse/genre/5161', 'https://www.netflix.com/browse/genre/2595', 'https://www.netflix.com/browse/genre/3675', 'https://www.netflix.com/browse/genre/500', 'https://www.netflix.com/browse/genre/3179', 'https://www.netflix.com/browse/genre/3653', 'https://www.netflix.com/browse/genre/4961', 'https://www.netflix.com/browse/genre/6889', 'https://www.netflix.com/browse/genre/6616', 'https://www.netflix.com/browse/genre/1255', 'https://www.netflix.com/browse/genre/3947', 'https://www.netflix.com/browse/genre/7243', 'https://www.netflix.com/browse/genre/11', 'https://www.netflix.com/browse/genre/5012', 'https://www.netflix.com/browse/genre/46576', 'https://www.netflix.com/browse/genre/31273', 'https://www.netflix.com/browse/genre/31694', 'https://www.netflix.com/browse/genre/32392', 'https://www.netflix.com/browse/genre/29809', 'https://www.netflix.com/browse/genre/7687', 'https://www.netflix.com/browse/genre/48744', 'https://www.netflix.com/browse/genre/53310', 'https://www.netflix.com/browse/genre/47147', 'https://www.netflix.com/browse/genre/46553', 'https://www.netflix.com/browse/genre/46588', 'https://www.netflix.com/browse/genre/47465', 'https://www.netflix.com/browse/genre/52858', 'https://www.netflix.com/browse/genre/89585', 'https://www.netflix.com/browse/genre/75804', 'https://www.netflix.com/browse/genre/75405', 'https://www.netflix.com/browse/genre/10944', 'https://www.netflix.com/browse/genre/42023', 'https://www.netflix.com/browse/genre/45028', 'https://www.netflix.com/browse/genre/75930', 'https://www.netflix.com/browse/genre/8654', 'https://www.netflix.com/browse/genre/947', 'https://www.netflix.com/browse/genre/8646', 'https://www.netflix.com/browse/genre/6998', 'https://www.netflix.com/browse/genre/52147', 'https://www.netflix.com/browse/genre/4195', 'https://www.netflix.com/browse/genre/384', 'https://www.netflix.com/browse/genre/11804', 'https://www.netflix.com/browse/genre/11079', 'https://www.netflix.com/browse/genre/9916', 'https://www.netflix.com/browse/genre/3269', 'https://www.netflix.com/browse/genre/11828', 'https://www.netflix.com/browse/genre/4426', 'https://www.netflix.com/browse/genre/5161', 'https://www.netflix.com/browse/genre/2150', 'https://www.netflix.com/browse/genre/3761', 'https://www.netflix.com/browse/genre/58886', 'https://www.netflix.com/browse/genre/5230', 'https://www.netflix.com/browse/genre/262', 'https://www.netflix.com/browse/genre/10757', 'https://www.netflix.com/browse/genre/3960', 'https://www.netflix.com/browse/genre/5685', 'https://www.netflix.com/browse/genre/1613', 'https://www.netflix.com/browse/genre/9196', 'https://www.netflix.com/browse/genre/5254', 'https://www.netflix.com/browse/genre/77232', 'https://www.netflix.com/browse/genre/8654', 'https://www.netflix.com/browse/genre/5875', 'https://www.netflix.com/browse/genre/58741', 'https://www.netflix.com/browse/genre/434295', 'https://www.netflix.com/browse/genre/107570', 'https://www.netflix.com/browse/genre/58807', 'https://www.netflix.com/browse/genre/8243', 'https://www.netflix.com/browse/genre/61115', 'https://www.netflix.com/browse/genre/10463', 'https://www.netflix.com/browse/genre/58750', 'https://www.netflix.com/browse/genre/8221', 'https://www.netflix.com/browse/genre/10398', 'https://www.netflix.com/browse/genre/10606', 'https://www.netflix.com/browse/genre/63782', 'https://www.netflix.com/browse/genre/11567', 'https://www.netflix.com/browse/genre/9292', 'https://www.netflix.com/browse/genre/1133133', 'https://www.netflix.com/browse/genre/32473', 'https://www.netflix.com/browse/genre/7153', 'https://www.netflix.com/browse/genre/6485', 'https://www.netflix.com/browse/genre/10306', 'https://www.netflix.com/browse/genre/67673', 'https://www.netflix.com/browse/genre/10056', 'https://www.netflix.com/browse/genre/51056', 'https://www.netflix.com/browse/genre/6796', 'https://www.netflix.com/browse/genre/6962', 'https://www.netflix.com/browse/genre/6218', 'https://www.netflix.com/browse/genre/5455', 'https://www.netflix.com/browse/genre/561', 'https://www.netflix.com/browse/genre/5507', 'https://www.netflix.com/browse/genre/52843', 'https://www.netflix.com/browse/genre/27346', 'https://www.netflix.com/browse/genre/11177', 'https://www.netflix.com/browse/genre/10659', 'https://www.netflix.com/browse/genre/31273', 'https://www.netflix.com/browse/genre/5475', 'https://www.netflix.com/browse/genre/1255', 'https://www.netflix.com/browse/genre/502675', 'https://www.netflix.com/browse/genre/9916', 'https://www.netflix.com/browse/genre/35800', 'https://www.netflix.com/browse/genre/7153', 'https://www.netflix.com/browse/genre/36103', 'https://www.netflix.com/browse/genre/6695', 'https://www.netflix.com/browse/genre/5286', 'https://www.netflix.com/browse/genre/180', 'https://www.netflix.com/browse/genre/7243', 'https://www.netflix.com/browse/genre/12443', 'https://www.netflix.com/browse/genre/12549', 'https://www.netflix.com/browse/genre/12339', 'https://www.netflix.com/browse/genre/12762', 'https://www.netflix.com/browse/genre/12803', 'https://www.netflix.com/browse/genre/8985', 'https://www.netflix.com/browse/genre/9327', 'https://www.netflix.com/browse/genre/7120', 'https://www.netflix.com/browse/genre/4720', 'https://www.netflix.com/browse/genre/500', 'https://www.netflix.com/browse/genre/3329', 'https://www.netflix.com/browse/genre/65263', 'https://www.netflix.com/browse/genre/13335', 'https://www.netflix.com/browse/genre/55774', 'https://www.netflix.com/browse/genre/59433', 'https://www.netflix.com/browse/genre/32392', 'https://www.netflix.com/browse/genre/13573', 'https://www.netflix.com/browse/genre/2856', 'https://www.netflix.com/browse/genre/3278', 'https://www.netflix.com/browse/genre/9472', 'https://www.netflix.com/browse/genre/10271', 'https://www.netflix.com/browse/genre/1105', 'https://www.netflix.com/browse/genre/10741', 'https://www.netflix.com/browse/genre/52843', 'https://www.netflix.com/browse/genre/1527064', 'https://www.netflix.com/browse/genre/1721544', 'https://www.netflix.com/browse/genre/1475066', 'https://www.netflix.com/browse/genre/1474017', 'https://www.netflix.com/browse/genre/1475071', 'https://www.netflix.com/browse/genre/1476024', 'https://www.netflix.com/browse/genre/1477206', 'https://www.netflix.com/browse/genre/1477201', 'https://www.netflix.com/browse/genre/1477204', 'https://www.netflix.com/browse/genre/1394522', 'https://www.netflix.com/browse/genre/1527063', 'https://www.netflix.com/browse/genre/1394527', 'https://www.netflix.com/browse/genre/1568', 'https://www.netflix.com/browse/genre/3327', 'https://www.netflix.com/browse/genre/6926', 'https://www.netflix.com/browse/genre/3916', 'https://www.netflix.com/browse/genre/1694', 'https://www.netflix.com/browse/genre/9744', 'https://www.netflix.com/browse/genre/6485', 'https://www.netflix.com/browse/genre/47147', 'https://www.netflix.com/browse/genre/4734', 'https://www.netflix.com/browse/genre/11014', 'https://www.netflix.com/browse/genre/10105', 'https://www.netflix.com/browse/genre/4814', 'https://www.netflix.com/browse/genre/27346', 'https://www.netflix.com/browse/genre/1372', 'https://www.netflix.com/browse/genre/52117', 'https://www.netflix.com/browse/genre/46553', 'https://www.netflix.com/browse/genre/10375', 'https://www.netflix.com/browse/genre/67879', 'https://www.netflix.com/browse/genre/74652', 'https://www.netflix.com/browse/genre/10673', 'https://www.netflix.com/browse/genre/4366', 'https://www.netflix.com/browse/genre/83059', 'https://www.netflix.com/browse/genre/11714', 'https://www.netflix.com/browse/genre/26146', 'https://www.netflix.com/browse/genre/25804', 'https://www.netflix.com/browse/genre/9833', 'https://www.netflix.com/browse/genre/72436', 'https://www.netflix.com/browse/genre/52780', 'https://www.netflix.com/browse/genre/3519', 'https://www.netflix.com/browse/genre/9299', 'https://www.netflix.com/browse/genre/52147', 'https://www.netflix.com/browse/genre/31851', 'https://www.netflix.com/browse/genre/9994', 'https://www.netflix.com/browse/genre/46588', 'https://www.netflix.com/browse/genre/43048', 'https://www.netflix.com/browse/genre/9147', 'https://www.netflix.com/browse/genre/11014', 'https://www.netflix.com/browse/genre/3269', 'https://www.netflix.com/browse/genre/10499', 'https://www.netflix.com/browse/genre/10504', 'https://www.netflix.com/browse/genre/5505', 'https://www.netflix.com/browse/genre/11140', 'https://www.netflix.com/browse/genre/972', 'https://www.netflix.com/browse/genre/10306', 'https://www.netflix.com/browse/genre/11881', 'https://www.netflix.com/browse/genre/2729', 'https://www.netflix.com/browse/genre/9302', 'https://www.netflix.com/browse/genre/2653', 'https://www.netflix.com/browse/genre/10695', 'https://www.netflix.com/browse/genre/452', 'https://www.netflix.com/browse/genre/11146', 'https://www.netflix.com/browse/genre/3063', 'https://www.netflix.com/browse/genre/5507', 'https://www.netflix.com/browse/genre/6721', 'https://www.netflix.com/browse/genre/1527064', 'https://www.netflix.com/browse/genre/1721544', 'https://www.netflix.com/browse/genre/1475066', 'https://www.netflix.com/browse/genre/1474017', 'https://www.netflix.com/browse/genre/1475071', 'https://www.netflix.com/browse/genre/1476024', 'https://www.netflix.com/browse/genre/1477206', 'https://www.netflix.com/browse/genre/1477201', 'https://www.netflix.com/browse/genre/1477204', 'https://www.netflix.com/browse/genre/1394522', 'https://www.netflix.com/browse/genre/1527063', 'https://www.netflix.com/browse/genre/1394527']\n"
     ]
    }
   ],
   "source": [
    "url = \"https://www.netflix-codes.com/fr\"\n",
    "response = requests.get(url)\n",
    "soup = BeautifulSoup(response.content, 'html.parser')\n",
    "linkcode = [] #luu tat ca code theo tung the loai phim\n",
    "for temp in soup.find_all('ul', class_='pl-4 list-inside list-disc space-y-1'):\n",
    "    for link in temp.find_all(\"a\"):\n",
    "        linkcode.append(link['href'])\n",
    "print(linkcode)\n"
   ]
  },
  {
   "cell_type": "code",
   "execution_count": 77,
   "metadata": {},
   "outputs": [],
   "source": [
    "link_item = [] #luu link dan toi moi bo phim\n",
    "for link in linkcode:\n",
    "    link_url = link\n",
    "    \n",
    "    try:\n",
    "        link_response = requests.get(link_url)\n",
    "        link_response.raise_for_status()  # Kiểm tra trạng thái phản hồi, nếu có lỗi sẽ ném ngoại lệ\n",
    "\n",
    "        link_soup = BeautifulSoup(link_response.content, 'html.parser')\n",
    "        if link_soup.find('div', class_='error-page not-found'):\n",
    "            continue\n",
    "        \n",
    "        if link_soup.find_all('li', class_='nm-collections-row-gallery-li'):\n",
    "            for temp in link_soup.find_all('li', class_='nm-collections-row-gallery-li'):\n",
    "                for temp2 in temp.find_all(\"a\"):\n",
    "                    href = temp2['href']\n",
    "                    if href not in link_item: #kiem tra link da ton tai hay chua\n",
    "                        link_item.append(href)\n",
    "        else:\n",
    "            for temp in link_soup.find_all('li', class_='nm-content-horizontal-row-item'):\n",
    "                for temp2 in temp.find_all(\"a\"):\n",
    "                    href = temp2['href']\n",
    "                    if href not in link_item:\n",
    "                        link_item.append(href)\n",
    "                        \n",
    "    \n",
    "    except requests.exceptions.RequestException:\n",
    "        # Nếu không thể truy cập liên kết, bỏ qua và tiếp tục vòng lặp\n",
    "        continue\n"
   ]
  },
  {
   "cell_type": "code",
   "execution_count": 112,
   "metadata": {},
   "outputs": [
    {
     "data": {
      "text/plain": [
       "4468"
      ]
     },
     "execution_count": 112,
     "metadata": {},
     "output_type": "execute_result"
    }
   ],
   "source": [
    "len(link_item)"
   ]
  },
  {
   "cell_type": "code",
   "execution_count": 113,
   "metadata": {},
   "outputs": [],
   "source": [
    "def time_to_minutes(time_str):\n",
    "    # Tách thời gian thành giờ và phút\n",
    "    parts = time_str.split()\n",
    "    \n",
    "    total_minutes = 0\n",
    "    \n",
    "    for part in parts:\n",
    "        if 'h' in part:\n",
    "            # Lấy giờ và chuyển thành phút\n",
    "            hours = int(part.replace('h', ''))\n",
    "            total_minutes += hours * 60\n",
    "        elif 'm' in part:\n",
    "            # Lấy phút\n",
    "            minutes = int(part.replace('m', ''))\n",
    "            total_minutes += minutes\n",
    "    \n",
    "    return total_minutes\n",
    "\n"
   ]
  },
  {
   "cell_type": "code",
   "execution_count": 118,
   "metadata": {},
   "outputs": [
    {
     "ename": "ImportError",
     "evalue": "IProgress not found. Please update jupyter and ipywidgets. See https://ipywidgets.readthedocs.io/en/stable/user_install.html",
     "output_type": "error",
     "traceback": [
      "\u001b[0;31m---------------------------------------------------------------------------\u001b[0m",
      "\u001b[0;31mImportError\u001b[0m                               Traceback (most recent call last)",
      "\u001b[1;32m/Users/danghuutri/Library/Mobile Documents/com~apple~CloudDocs/Study/A-Learn_st_III/HK1/TKMT/Crawl_Netflix/demo.ipynb Cell 6\u001b[0m line \u001b[0;36m3\n\u001b[1;32m      <a href='vscode-notebook-cell:/Users/danghuutri/Library/Mobile%20Documents/com~apple~CloudDocs/Study/A-Learn_st_III/HK1/TKMT/Crawl_Netflix/demo.ipynb#W4sZmlsZQ%3D%3D?line=0'>1</a>\u001b[0m \u001b[39mfrom\u001b[39;00m \u001b[39mtqdm\u001b[39;00m\u001b[39m.\u001b[39;00m\u001b[39mnotebook\u001b[39;00m \u001b[39mimport\u001b[39;00m tqdm\n\u001b[1;32m      <a href='vscode-notebook-cell:/Users/danghuutri/Library/Mobile%20Documents/com~apple~CloudDocs/Study/A-Learn_st_III/HK1/TKMT/Crawl_Netflix/demo.ipynb#W4sZmlsZQ%3D%3D?line=1'>2</a>\u001b[0m ds \u001b[39m=\u001b[39m []\n\u001b[0;32m----> <a href='vscode-notebook-cell:/Users/danghuutri/Library/Mobile%20Documents/com~apple~CloudDocs/Study/A-Learn_st_III/HK1/TKMT/Crawl_Netflix/demo.ipynb#W4sZmlsZQ%3D%3D?line=2'>3</a>\u001b[0m \u001b[39mfor\u001b[39;00m link \u001b[39min\u001b[39;00m tqdm(link_item,desc\u001b[39m=\u001b[39;49m\u001b[39m'\u001b[39;49m\u001b[39mcountling\u001b[39;49m\u001b[39m'\u001b[39;49m):\n\u001b[1;32m      <a href='vscode-notebook-cell:/Users/danghuutri/Library/Mobile%20Documents/com~apple~CloudDocs/Study/A-Learn_st_III/HK1/TKMT/Crawl_Netflix/demo.ipynb#W4sZmlsZQ%3D%3D?line=3'>4</a>\u001b[0m     link_url \u001b[39m=\u001b[39m link\n\u001b[1;32m      <a href='vscode-notebook-cell:/Users/danghuutri/Library/Mobile%20Documents/com~apple~CloudDocs/Study/A-Learn_st_III/HK1/TKMT/Crawl_Netflix/demo.ipynb#W4sZmlsZQ%3D%3D?line=4'>5</a>\u001b[0m     link_response \u001b[39m=\u001b[39m requests\u001b[39m.\u001b[39mget(link_url)\n",
      "File \u001b[0;32m~/Library/Python/3.9/lib/python/site-packages/tqdm/notebook.py:233\u001b[0m, in \u001b[0;36mtqdm_notebook.__init__\u001b[0;34m(self, *args, **kwargs)\u001b[0m\n\u001b[1;32m    231\u001b[0m unit_scale \u001b[39m=\u001b[39m \u001b[39m1\u001b[39m \u001b[39mif\u001b[39;00m \u001b[39mself\u001b[39m\u001b[39m.\u001b[39munit_scale \u001b[39mis\u001b[39;00m \u001b[39mTrue\u001b[39;00m \u001b[39melse\u001b[39;00m \u001b[39mself\u001b[39m\u001b[39m.\u001b[39munit_scale \u001b[39mor\u001b[39;00m \u001b[39m1\u001b[39m\n\u001b[1;32m    232\u001b[0m total \u001b[39m=\u001b[39m \u001b[39mself\u001b[39m\u001b[39m.\u001b[39mtotal \u001b[39m*\u001b[39m unit_scale \u001b[39mif\u001b[39;00m \u001b[39mself\u001b[39m\u001b[39m.\u001b[39mtotal \u001b[39melse\u001b[39;00m \u001b[39mself\u001b[39m\u001b[39m.\u001b[39mtotal\n\u001b[0;32m--> 233\u001b[0m \u001b[39mself\u001b[39m\u001b[39m.\u001b[39mcontainer \u001b[39m=\u001b[39m \u001b[39mself\u001b[39;49m\u001b[39m.\u001b[39;49mstatus_printer(\u001b[39mself\u001b[39;49m\u001b[39m.\u001b[39;49mfp, total, \u001b[39mself\u001b[39;49m\u001b[39m.\u001b[39;49mdesc, \u001b[39mself\u001b[39;49m\u001b[39m.\u001b[39;49mncols)\n\u001b[1;32m    234\u001b[0m \u001b[39mself\u001b[39m\u001b[39m.\u001b[39mcontainer\u001b[39m.\u001b[39mpbar \u001b[39m=\u001b[39m proxy(\u001b[39mself\u001b[39m)\n\u001b[1;32m    235\u001b[0m \u001b[39mself\u001b[39m\u001b[39m.\u001b[39mdisplayed \u001b[39m=\u001b[39m \u001b[39mFalse\u001b[39;00m\n",
      "File \u001b[0;32m~/Library/Python/3.9/lib/python/site-packages/tqdm/notebook.py:108\u001b[0m, in \u001b[0;36mtqdm_notebook.status_printer\u001b[0;34m(_, total, desc, ncols)\u001b[0m\n\u001b[1;32m     99\u001b[0m \u001b[39m# Fallback to text bar if there's no total\u001b[39;00m\n\u001b[1;32m    100\u001b[0m \u001b[39m# DEPRECATED: replaced with an 'info' style bar\u001b[39;00m\n\u001b[1;32m    101\u001b[0m \u001b[39m# if not total:\u001b[39;00m\n\u001b[0;32m   (...)\u001b[0m\n\u001b[1;32m    105\u001b[0m \n\u001b[1;32m    106\u001b[0m \u001b[39m# Prepare IPython progress bar\u001b[39;00m\n\u001b[1;32m    107\u001b[0m \u001b[39mif\u001b[39;00m IProgress \u001b[39mis\u001b[39;00m \u001b[39mNone\u001b[39;00m:  \u001b[39m# #187 #451 #558 #872\u001b[39;00m\n\u001b[0;32m--> 108\u001b[0m     \u001b[39mraise\u001b[39;00m \u001b[39mImportError\u001b[39;00m(WARN_NOIPYW)\n\u001b[1;32m    109\u001b[0m \u001b[39mif\u001b[39;00m total:\n\u001b[1;32m    110\u001b[0m     pbar \u001b[39m=\u001b[39m IProgress(\u001b[39mmin\u001b[39m\u001b[39m=\u001b[39m\u001b[39m0\u001b[39m, \u001b[39mmax\u001b[39m\u001b[39m=\u001b[39mtotal)\n",
      "\u001b[0;31mImportError\u001b[0m: IProgress not found. Please update jupyter and ipywidgets. See https://ipywidgets.readthedocs.io/en/stable/user_install.html"
     ]
    }
   ],
   "source": [
    "\n",
    "ds = []\n",
    "for link in link_item:\n",
    "    link_url = link\n",
    "    link_response = requests.get(link_url)\n",
    "    link_soup = BeautifulSoup(link_response.content, 'html.parser')\n",
    "    id = re.findall(r'\\d+',link)\n",
    "    try:\n",
    "        name =  link_soup.find('h1', class_='title-title').text\n",
    "    except AttributeError:\n",
    "        continue\n",
    "    try: \n",
    "        year = link_soup.find('span', class_='title-info-metadata-item item-year').text\n",
    "    except AttributeError:\n",
    "        continue\n",
    "    try:    \n",
    "        rating = link_soup.find('span', class_='maturity-number').text\n",
    "    except AttributeError:\n",
    "        continue\n",
    "    try:\n",
    "        time = link_soup.find('span', class_='duration').text\n",
    "    except AttributeError:\n",
    "        continue\n",
    "    try:\n",
    "        describle = link_soup.find('div', class_='title-info-synopsis').text\n",
    "    except  AttributeError:\n",
    "        continue\n",
    "    try:\n",
    "        starring = link_soup.find('span', class_='title-data-info-item-list').text\n",
    "    except AttributeError:\n",
    "        continue\n",
    "    creator =[]\n",
    "    genres = []\n",
    "    country = []\n",
    "    country_mapping = {\n",
    "            \"Vietnamese\": \"Vietnam\",\n",
    "            \"Egyptian\": \"Egypt\",\n",
    "            \"Taiwanese\":\"China\",\n",
    "            \"Norwegian\": \"Norway\",\n",
    "            \"Singaporean\": \"Singapore\",\n",
    "            \"Tamil-Language\":\"Singapore\",\n",
    "            \"Chinese\": \"China\",\n",
    "            \"Hong Kong\": \"China\",\n",
    "            \"US\": \"United States\",\n",
    "            \"Spanish\": \"Spain\",\n",
    "            \"French\": \"France\",\n",
    "            \"Filipino\": \"Philippines\",\n",
    "            \"Hindi-Language\": \"India\",\n",
    "            \"Kuwaiti\": \"Kuwait\",\n",
    "            \"Saudi\": \"Saudi Arabia\",\n",
    "            \"Polish\": \"Poland\",\n",
    "            \"Political\": \"Poland\",\n",
    "            \"African\": \"South Africa\",\n",
    "            \"South African\": \"South Africa\",\n",
    "            \"Argentinian\": \"Argentina\",\n",
    "            \"Austrian\": \"Austria\",\n",
    "            \"Belgian\": \"Belgium\",\n",
    "            \"Bengali-Language\": \"Belgium\",\n",
    "            \"Brazilian\": \"Brazil\",\n",
    "            \"Canadian\": \"Canada\",\n",
    "            \"Chilean\": \"Chile\",\n",
    "            \"Colombian\": \"Colombia\",\n",
    "            \"Thai\": \"Thailand\",\n",
    "            \"Korean\": \"Korea\",\n",
    "            \"Indian\": \"India\",\n",
    "            \"Telugu-Language\": \"India\",\n",
    "            \"Japanese\": \"Japan\",\n",
    "            \"English\": \"United Kingdom\",\n",
    "            \"Czech\": \"Czech Republic\",\n",
    "            \"Irish\": \"Ireland\",\n",
    "            \"Malaysian\": \"Malaysia\",\n",
    "            \"Italian\": \"Italy\",\n",
    "            \"British\": \"United Kingdom\",\n",
    "            \"Swedish\": \"Sweden\",\n",
    "            \"German\": \"Germany\",\n",
    "            \"Dutch\": \"Netherlands\",\n",
    "            \"Australian\": \"Australia\",\n",
    "            \"Indonesian\": \"Indonesia\",\n",
    "            \"Mexican\": \"Mexico\",\n",
    "            \"Portuguese\": \"Portugal\",\n",
    "            \"Syrian\":\"Syria\",\n",
    "            \"Lebanese\": \"Lebanon\",\n",
    "            \"Malayalam-Language Movies\": \"India\",\n",
    "            \"Turkish\": \"Turkey\",\n",
    "            \"Russian\": \"Russia\",\n",
    "            \"Danish\": \"Denmark\",\n",
    "            \"Peruvian\": \"Peru\",\n",
    "            \"Nollywood\": \"Nigeria\",\n",
    "\n",
    "        }\n",
    "     \n",
    "    for gen in link_soup.find_all('span', class_='more-details-item item-genres'):\n",
    "        # print(gen.text)\n",
    "        # count = 0\n",
    "        country_temp = []\n",
    "        for temp, country_name in country_mapping.items():\n",
    "            temp = str(temp)\n",
    "\n",
    "         # Sử dụng re.findall để tìm tất cả các sự xuất hiện của temp trong genres\n",
    "            \n",
    "            if re.findall(rf'\\b{temp}\\b', gen.text) :\n",
    "                    # count +=1\n",
    "                    if country_name not in country_temp:\n",
    "                        country_temp.append(country_name)\n",
    "        if len(country_temp)>0:\n",
    "\n",
    "            country.append(country_temp)\n",
    "\n",
    "        else:\n",
    "            genres.append(gen.text.replace(\",\",\"\"))\n",
    "        # print(country)\n",
    "        # print(\"\\n\")\n",
    "    # country = '' .join(country)   \n",
    "    genres = ',' .join(genres)    \n",
    "    if link_soup.find('div', class_='title-data-info-item item-creators'):\n",
    "        creator = link_soup.find('div', class_='title-data-info-item item-creators').find('span', class_='title-data-info-item-list').text\n",
    "    type \n",
    "    if re.findall(r'\\bTV\\b',genres):\n",
    "        type = 'TV Show'\n",
    "    else:\n",
    "        type = 'Movie'\n",
    "        if time_to_minutes(time) == 0:\n",
    "            type = 'TV Show'\n",
    "        else: \n",
    "            time = str(time_to_minutes(time)) + ' min'\n",
    "    \n",
    "        \n",
    "    data = {\n",
    "            'id':id[0],\n",
    "            'type':type,\n",
    "            'name':name,\n",
    "            'creator': None if len(creator) == 0 else creator,\n",
    "            'starring':starring,\n",
    "            'year':year,\n",
    "            'rating':rating,\n",
    "            'time':time,\n",
    "            'genres': genres,\n",
    "            'country':None if len(country) == 0 else country[0][0],\n",
    "            'describle':describle,\n",
    "\n",
    "        }\n",
    "    ds.append(data)\n",
    "\n",
    "    "
   ]
  },
  {
   "cell_type": "code",
   "execution_count": 115,
   "metadata": {},
   "outputs": [
    {
     "data": {
      "text/plain": [
       "3784"
      ]
     },
     "execution_count": 115,
     "metadata": {},
     "output_type": "execute_result"
    }
   ],
   "source": [
    "len(ds)\n"
   ]
  },
  {
   "cell_type": "code",
   "execution_count": 93,
   "metadata": {},
   "outputs": [
    {
     "data": {
      "text/plain": [
       "679"
      ]
     },
     "execution_count": 93,
     "metadata": {},
     "output_type": "execute_result"
    }
   ],
   "source": [
    "\n",
    "min_error_index = link_item.index('https://www.netflix.com/vn-en/title/80990612')\n",
    "min_error_index\n"
   ]
  },
  {
   "cell_type": "code",
   "execution_count": 116,
   "metadata": {},
   "outputs": [],
   "source": [
    "df=pd.DataFrame(ds)\n",
    "df.to_csv(\"netflix.csv\",encoding='utf-8',index=False)"
   ]
  },
  {
   "cell_type": "code",
   "execution_count": null,
   "metadata": {},
   "outputs": [
    {
     "name": "stdout",
     "output_type": "stream",
     "text": [
      "https://www.netflix.com/vn-en/title/60001220\n",
      "https://www.netflix.com/vn-en/title/1056189\n",
      "https://www.netflix.com/vn-en/title/686619\n"
     ]
    }
   ],
   "source": [
    "for link in link_item[0:3]:\n",
    "    # link_url = link\n",
    "    # link_response = requests.get(link_url)\n",
    "    # link_soup = BeautifulSoup(link_response.content, 'html.parser')\n",
    "    print(link)"
   ]
  },
  {
   "cell_type": "code",
   "execution_count": null,
   "metadata": {},
   "outputs": [
    {
     "name": "stdout",
     "output_type": "stream",
     "text": [
      "Vietnam\n",
      "China\n",
      "United States\n",
      "Korea\n",
      "India\n",
      "Japan\n",
      "United Kingdom\n",
      "Czech Republic\n",
      "Ireland\n",
      "Malaysia\n",
      "Italy\n",
      "United Kingdom\n",
      "Sweden\n",
      "Germany\n",
      "Netherlands\n",
      "Australia\n"
     ]
    }
   ],
   "source": [
    "country_mapping = {\n",
    "            \"Viet\": \"Vietnam\",\n",
    "            \"Chine\": \"China\",\n",
    "            \"US\": \"United States\",\n",
    "            \"Kore\": \"Korea\",\n",
    "            \"Indi\":\"India\",\n",
    "            \"Jana\":\"Japan\",\n",
    "            \"Eng\": \"United Kingdom\",\n",
    "            \"Czech\":\"Czech Republic\",\n",
    "            \"Irish\":\"Ireland\",\n",
    "            \"Malaysian\":\"Malaysia\",\n",
    "            \"Italian\":\"Italy\",\n",
    "            \"British\":\"United Kingdom\",\n",
    "            \"Swedish\":\"Sweden\",\n",
    "            \"German\":\"Germany\",\n",
    "            \"Dutch\":\"Netherlands\",\n",
    "            \"Australian\":\"Australia\",\n",
    "\n",
    "        }\n",
    "for temp in country_mapping:\n",
    "    print(country_mapping[temp])"
   ]
  }
 ],
 "metadata": {
  "kernelspec": {
   "display_name": "Python 3",
   "language": "python",
   "name": "python3"
  },
  "language_info": {
   "codemirror_mode": {
    "name": "ipython",
    "version": 3
   },
   "file_extension": ".py",
   "mimetype": "text/x-python",
   "name": "python",
   "nbconvert_exporter": "python",
   "pygments_lexer": "ipython3",
   "version": "3.11.6"
  },
  "orig_nbformat": 4
 },
 "nbformat": 4,
 "nbformat_minor": 2
}
